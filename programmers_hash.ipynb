{
 "cells": [
  {
   "cell_type": "markdown",
   "metadata": {},
   "source": [
    "### 04번 베스트앨범 만들기\n"
   ]
  },
  {
   "cell_type": "code",
   "execution_count": null,
   "metadata": {},
   "outputs": [],
   "source": [
    "## 내 풀이\n",
    "def solution(genres, plays):\n",
    "    answer = []\n",
    "    # song_dic = {genres_item : 0 for genres_item in genres}\n",
    "    song_dic={}\n",
    "    play_table = {}\n",
    "    for i in range(len(genres)):\n",
    "        try:\n",
    "            song_dic[genres[i]] += plays[i]\n",
    "            play_table[genres[i]].append([plays[i],i])\n",
    "        except:\n",
    "            song_dic[genres[i]] = plays[i]\n",
    "            play_table[genres[i]]= [[plays[i],i]]\n",
    "    \n",
    "    # sorted_song = sorted(song_dic.items(), key = lambda x:x[1], reverse= True)\n",
    "    # most_genres = [sorted_song[0][0], sorted_song[1][0]]\n",
    "    most_genres = sorted(song_dic, key = lambda x:-song_dic[x])\n",
    "    \n",
    "    for k in play_table:\n",
    "        play_table[k] = sorted(play_table[k], key = lambda x:(-x[0],x[1]))\n",
    "        \n",
    "    for g in most_genres:\n",
    "        if (len(play_table[g])==1):\n",
    "            answer.append(play_table[g][0][1])\n",
    "        else:\n",
    "            for i in range(2):\n",
    "                answer.append(play_table[g][i][1])\n",
    "\n",
    "    \n",
    "      \n",
    "    return answer"
   ]
  },
  {
   "cell_type": "code",
   "execution_count": null,
   "metadata": {},
   "outputs": [],
   "source": [
    "def wow(genres, plays):\n",
    "    ## 정렬전까지 for 루프로 genre table 구하기까지 zip으로 한번에\n",
    "    play_table = {e:[] for e in set(genres)}\n",
    "    for e in zip(genres, plays, range(len(genres))):\n",
    "        play_table[e[0]].append([e[1],e[2]])  ## 리스트로 감싸기 잊지 말자\n",
    "    print(play_table)\n",
    "\n",
    "    ## 재생시간 sum과 정렬을 한번에 wow!\n",
    "    most_genres = sorted(play_table, key= lambda x: -sum(map (lambda y:y[0], play_table[x])))\n",
    "    print(most_genres)\n",
    "\n",
    "    ## play_table을 재생시간순 (descending), 고유번호인덱스 (ascending) 정렬\n",
    "    answer = []\n",
    "    for g in most_genres:\n",
    "        temp = [e[1] for e in sorted(play_table[g], key = lambda x : (-x[0], x[1]))]\n",
    "        print(temp)\n",
    "\n",
    "        ## 장르당 1곡만 있는 경우를 최소 길이(1)과 장르당 2곡씩 고르니 2 사이의 min값으로\n",
    "        ## 훌륭하구만 이런게 코딩인가..\n",
    "        answer += temp[: min(len(temp), 2)]\n",
    "    return answer"
   ]
  }
 ],
 "metadata": {
  "language_info": {
   "name": "python"
  },
  "orig_nbformat": 4
 },
 "nbformat": 4,
 "nbformat_minor": 2
}
