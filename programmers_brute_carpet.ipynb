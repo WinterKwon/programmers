{
 "cells": [
  {
   "cell_type": "markdown",
   "metadata": {},
   "source": [
    "### 카펫\n",
    "![](2022-03-29-23-12-13.png)\n",
    "\n",
    "Leo가 본 카펫에서 갈색 격자의 수 brown, 노란색 격자의 수 yellow가 매개변수로 주어질 때 카펫의 가로, 세로 크기를 순서대로 배열에 담아 return 하도록 solution 함수를 작성해주세요."
   ]
  },
  {
   "cell_type": "code",
   "execution_count": 1,
   "metadata": {},
   "outputs": [],
   "source": [
    "from itertools import combinations\n",
    "brown = 10\n",
    "yellow = 2\n",
    "area = brown + yellow\n",
    "temp = []\n",
    "for i in range(1, area+1):\n",
    "    if area % i == 0:\n",
    "        temp.append(i)\n",
    "candi = list(combinations(temp,2))"
   ]
  },
  {
   "cell_type": "code",
   "execution_count": 6,
   "metadata": {},
   "outputs": [
    {
     "data": {
      "text/plain": [
       "[(1, 2),\n",
       " (1, 3),\n",
       " (1, 4),\n",
       " (1, 6),\n",
       " (1, 12),\n",
       " (2, 3),\n",
       " (2, 4),\n",
       " (2, 6),\n",
       " (2, 12),\n",
       " (3, 4),\n",
       " (3, 6),\n",
       " (3, 12),\n",
       " (4, 6),\n",
       " (4, 12),\n",
       " (6, 12)]"
      ]
     },
     "execution_count": 6,
     "metadata": {},
     "output_type": "execute_result"
    }
   ],
   "source": [
    "candi"
   ]
  },
  {
   "cell_type": "code",
   "execution_count": 5,
   "metadata": {},
   "outputs": [
    {
     "data": {
      "text/plain": [
       "[2, 3, 4, 6, 12, 6, 8, 12, 24, 12, 18, 36, 24, 48, 72]"
      ]
     },
     "execution_count": 5,
     "metadata": {},
     "output_type": "execute_result"
    }
   ],
   "source": [
    "list(map(lambda x: x[0]*x[1], candi) )"
   ]
  },
  {
   "cell_type": "code",
   "execution_count": 7,
   "metadata": {},
   "outputs": [
    {
     "name": "stdout",
     "output_type": "stream",
     "text": [
      "2 (1, 2)\n",
      "3 (1, 3)\n",
      "4 (1, 4)\n",
      "6 (1, 6)\n",
      "12 (1, 12)\n",
      "6 (2, 3)\n",
      "8 (2, 4)\n",
      "12 (2, 6)\n",
      "24 (2, 12)\n",
      "12 (3, 4)\n",
      "18 (3, 6)\n",
      "36 (3, 12)\n",
      "24 (4, 6)\n",
      "48 (4, 12)\n",
      "72 (6, 12)\n"
     ]
    }
   ],
   "source": [
    "for i,j in candi:\n",
    "    print(i*j, (i,j))"
   ]
  },
  {
   "cell_type": "code",
   "execution_count": 8,
   "metadata": {},
   "outputs": [
    {
     "data": {
      "text/plain": [
       "[(1, 12), (2, 6), (3, 4)]"
      ]
     },
     "execution_count": 8,
     "metadata": {},
     "output_type": "execute_result"
    }
   ],
   "source": [
    "[(i,j) for i,j in candi if i*j == area]"
   ]
  },
  {
   "cell_type": "code",
   "execution_count": 10,
   "metadata": {},
   "outputs": [
    {
     "data": {
      "text/plain": [
       "[(3, 4), (2, 6), (1, 12)]"
      ]
     },
     "execution_count": 10,
     "metadata": {},
     "output_type": "execute_result"
    }
   ],
   "source": [
    "ex = [(i,j) for i,j in candi if i*j == area]\n",
    "res = sorted(ex, key = lambda x: -x[1], reverse = True)\n",
    "res"
   ]
  },
  {
   "cell_type": "code",
   "execution_count": 11,
   "metadata": {},
   "outputs": [],
   "source": [
    "ans = []\n",
    "for i,j in res:\n",
    "    if i > yellow:\n",
    "       ans += [i,j] "
   ]
  },
  {
   "cell_type": "code",
   "execution_count": 13,
   "metadata": {},
   "outputs": [],
   "source": [
    "ans.sort(reverse = True)"
   ]
  },
  {
   "cell_type": "code",
   "execution_count": 14,
   "metadata": {},
   "outputs": [
    {
     "data": {
      "text/plain": [
       "[4, 3]"
      ]
     },
     "execution_count": 14,
     "metadata": {},
     "output_type": "execute_result"
    }
   ],
   "source": [
    "ans"
   ]
  },
  {
   "cell_type": "code",
   "execution_count": 15,
   "metadata": {},
   "outputs": [],
   "source": [
    "from itertools import combinations\n",
    "\n",
    "def solution(brown, yellow):\n",
    "    answer = []\n",
    "    area = brown + yellow\n",
    "    temp = []\n",
    "    for i in range(1, area+1):\n",
    "        if area % i == 0:\n",
    "            temp.append(i)\n",
    "    candi = list(combinations(temp,2))\n",
    "    ex = [(i,j) for i,j in candi if i*j == area]\n",
    "    res = sorted(ex, key = lambda x: -x[1], reverse = True)\n",
    "    for i,j in res:\n",
    "        if i > yellow:\n",
    "            answer += [i,j] \n",
    "    answer.sort(reverse = True)\n",
    "    return answer"
   ]
  },
  {
   "cell_type": "code",
   "execution_count": 16,
   "metadata": {},
   "outputs": [],
   "source": [
    "brown = 8\n",
    "yellow = 1"
   ]
  },
  {
   "cell_type": "code",
   "execution_count": 20,
   "metadata": {},
   "outputs": [
    {
     "data": {
      "text/plain": [
       "[(1, 3), (1, 9), (3, 9)]"
      ]
     },
     "execution_count": 20,
     "metadata": {},
     "output_type": "execute_result"
    }
   ],
   "source": [
    "answer = []\n",
    "area = brown + yellow\n",
    "temp = []\n",
    "for i in range(1, area+1):\n",
    "    if area % i == 0:\n",
    "        temp.append(i)\n",
    "candi = list(combinations(temp,2))\n",
    "candi"
   ]
  },
  {
   "cell_type": "code",
   "execution_count": 18,
   "metadata": {},
   "outputs": [],
   "source": [
    "from itertools import permutations"
   ]
  },
  {
   "cell_type": "code",
   "execution_count": 19,
   "metadata": {},
   "outputs": [
    {
     "data": {
      "text/plain": [
       "[(1, 3), (1, 9), (3, 1), (3, 9), (9, 1), (9, 3)]"
      ]
     },
     "execution_count": 19,
     "metadata": {},
     "output_type": "execute_result"
    }
   ],
   "source": [
    "answer = []\n",
    "area = brown + yellow\n",
    "temp = []\n",
    "for i in range(1, area+1):\n",
    "    if area % i == 0:\n",
    "        temp.append(i)\n",
    "candi = list(permutations(temp,2))\n",
    "candi\n"
   ]
  },
  {
   "cell_type": "markdown",
   "metadata": {},
   "source": [
    "순열이나 조합을 이용해선 3 by 3 같은 경우를 반환할 수 없구나..\n",
    "\n",
    "문제의 조건을 생각해보면,\n",
    "\n",
    "(1) w > d\n",
    "\n",
    "(2) (w-2) * (d -2) = yellow\n",
    "\n",
    "(3) w * d == brown + yellow\n"
   ]
  },
  {
   "cell_type": "markdown",
   "metadata": {},
   "source": [
    "뚀오잉!\n",
    "\n",
    "노란색카펫의 약수를 중복 허용해 짝을 구하고 짝의 각각에 +2 한 후 곱한 값이 area, 즉 (brown + yellow)가 되도록 로직을 짜면 어떻까"
   ]
  },
  {
   "cell_type": "code",
   "execution_count": 24,
   "metadata": {},
   "outputs": [
    {
     "data": {
      "text/plain": [
       "1"
      ]
     },
     "execution_count": 24,
     "metadata": {},
     "output_type": "execute_result"
    }
   ],
   "source": [
    "yellow"
   ]
  },
  {
   "cell_type": "code",
   "execution_count": 25,
   "metadata": {},
   "outputs": [
    {
     "data": {
      "text/plain": [
       "[1]"
      ]
     },
     "execution_count": 25,
     "metadata": {},
     "output_type": "execute_result"
    }
   ],
   "source": [
    "temp = []\n",
    "for i in range(1, yellow+1):\n",
    "    if yellow % i == 0:\n",
    "        temp.append(i)\n",
    "temp"
   ]
  },
  {
   "cell_type": "code",
   "execution_count": 28,
   "metadata": {},
   "outputs": [
    {
     "data": {
      "text/plain": [
       "[3]"
      ]
     },
     "execution_count": 28,
     "metadata": {},
     "output_type": "execute_result"
    }
   ],
   "source": [
    "list(map(lambda x: x+2, temp))"
   ]
  },
  {
   "cell_type": "code",
   "execution_count": null,
   "metadata": {},
   "outputs": [],
   "source": [
    "for i in list(map(lambda x: x+2, temp)):\n",
    "    "
   ]
  },
  {
   "cell_type": "code",
   "execution_count": null,
   "metadata": {},
   "outputs": [],
   "source": []
  }
 ],
 "metadata": {
  "interpreter": {
   "hash": "35ed88a844549ed1dac1a7f37b7dbf0b748b418d1d8529676b850db54c710907"
  },
  "kernelspec": {
   "display_name": "Python 3.8.5 ('venv': venv)",
   "language": "python",
   "name": "python3"
  },
  "language_info": {
   "codemirror_mode": {
    "name": "ipython",
    "version": 3
   },
   "file_extension": ".py",
   "mimetype": "text/x-python",
   "name": "python",
   "nbconvert_exporter": "python",
   "pygments_lexer": "ipython3",
   "version": "3.8.5"
  },
  "orig_nbformat": 4
 },
 "nbformat": 4,
 "nbformat_minor": 2
}
