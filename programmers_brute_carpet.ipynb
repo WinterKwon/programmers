{
 "cells": [
  {
   "cell_type": "markdown",
   "metadata": {},
   "source": [
    "### 카펫\n",
    "![](2022-03-29-23-12-13.png)\n",
    "\n",
    "Leo가 본 카펫에서 갈색 격자의 수 brown, 노란색 격자의 수 yellow가 매개변수로 주어질 때 카펫의 가로, 세로 크기를 순서대로 배열에 담아 return 하도록 solution 함수를 작성해주세요."
   ]
  },
  {
   "cell_type": "code",
   "execution_count": 1,
   "metadata": {},
   "outputs": [],
   "source": [
    "from itertools import combinations\n",
    "brown = 10\n",
    "yellow = 2\n",
    "area = brown + yellow\n",
    "temp = []\n",
    "for i in range(1, area+1):\n",
    "    if area % i == 0:\n",
    "        temp.append(i)\n",
    "candi = list(combinations(temp,2))"
   ]
  },
  {
   "cell_type": "code",
   "execution_count": 6,
   "metadata": {},
   "outputs": [
    {
     "data": {
      "text/plain": [
       "[(1, 2),\n",
       " (1, 3),\n",
       " (1, 4),\n",
       " (1, 6),\n",
       " (1, 12),\n",
       " (2, 3),\n",
       " (2, 4),\n",
       " (2, 6),\n",
       " (2, 12),\n",
       " (3, 4),\n",
       " (3, 6),\n",
       " (3, 12),\n",
       " (4, 6),\n",
       " (4, 12),\n",
       " (6, 12)]"
      ]
     },
     "execution_count": 6,
     "metadata": {},
     "output_type": "execute_result"
    }
   ],
   "source": [
    "candi"
   ]
  },
  {
   "cell_type": "code",
   "execution_count": 5,
   "metadata": {},
   "outputs": [
    {
     "data": {
      "text/plain": [
       "[2, 3, 4, 6, 12, 6, 8, 12, 24, 12, 18, 36, 24, 48, 72]"
      ]
     },
     "execution_count": 5,
     "metadata": {},
     "output_type": "execute_result"
    }
   ],
   "source": [
    "list(map(lambda x: x[0]*x[1], candi) )"
   ]
  },
  {
   "cell_type": "code",
   "execution_count": 7,
   "metadata": {},
   "outputs": [
    {
     "name": "stdout",
     "output_type": "stream",
     "text": [
      "2 (1, 2)\n",
      "3 (1, 3)\n",
      "4 (1, 4)\n",
      "6 (1, 6)\n",
      "12 (1, 12)\n",
      "6 (2, 3)\n",
      "8 (2, 4)\n",
      "12 (2, 6)\n",
      "24 (2, 12)\n",
      "12 (3, 4)\n",
      "18 (3, 6)\n",
      "36 (3, 12)\n",
      "24 (4, 6)\n",
      "48 (4, 12)\n",
      "72 (6, 12)\n"
     ]
    }
   ],
   "source": [
    "for i,j in candi:\n",
    "    print(i*j, (i,j))"
   ]
  },
  {
   "cell_type": "code",
   "execution_count": 8,
   "metadata": {},
   "outputs": [
    {
     "data": {
      "text/plain": [
       "[(1, 12), (2, 6), (3, 4)]"
      ]
     },
     "execution_count": 8,
     "metadata": {},
     "output_type": "execute_result"
    }
   ],
   "source": [
    "[(i,j) for i,j in candi if i*j == area]"
   ]
  },
  {
   "cell_type": "code",
   "execution_count": 10,
   "metadata": {},
   "outputs": [
    {
     "data": {
      "text/plain": [
       "[(3, 4), (2, 6), (1, 12)]"
      ]
     },
     "execution_count": 10,
     "metadata": {},
     "output_type": "execute_result"
    }
   ],
   "source": [
    "ex = [(i,j) for i,j in candi if i*j == area]\n",
    "res = sorted(ex, key = lambda x: -x[1], reverse = True)\n",
    "res"
   ]
  },
  {
   "cell_type": "code",
   "execution_count": 11,
   "metadata": {},
   "outputs": [],
   "source": [
    "ans = []\n",
    "for i,j in res:\n",
    "    if i > yellow:\n",
    "       ans += [i,j] "
   ]
  },
  {
   "cell_type": "code",
   "execution_count": 13,
   "metadata": {},
   "outputs": [],
   "source": [
    "ans.sort(reverse = True)"
   ]
  },
  {
   "cell_type": "code",
   "execution_count": 14,
   "metadata": {},
   "outputs": [
    {
     "data": {
      "text/plain": [
       "[4, 3]"
      ]
     },
     "execution_count": 14,
     "metadata": {},
     "output_type": "execute_result"
    }
   ],
   "source": [
    "ans"
   ]
  },
  {
   "cell_type": "code",
   "execution_count": 15,
   "metadata": {},
   "outputs": [],
   "source": [
    "from itertools import combinations\n",
    "\n",
    "def solution(brown, yellow):\n",
    "    answer = []\n",
    "    area = brown + yellow\n",
    "    temp = []\n",
    "    for i in range(1, area+1):\n",
    "        if area % i == 0:\n",
    "            temp.append(i)\n",
    "    candi = list(combinations(temp,2))\n",
    "    ex = [(i,j) for i,j in candi if i*j == area]\n",
    "    res = sorted(ex, key = lambda x: -x[1], reverse = True)\n",
    "    for i,j in res:\n",
    "        if i > yellow:\n",
    "            answer += [i,j] \n",
    "    answer.sort(reverse = True)\n",
    "    return answer"
   ]
  },
  {
   "cell_type": "code",
   "execution_count": 16,
   "metadata": {},
   "outputs": [],
   "source": [
    "brown = 8\n",
    "yellow = 1"
   ]
  },
  {
   "cell_type": "code",
   "execution_count": 20,
   "metadata": {},
   "outputs": [
    {
     "data": {
      "text/plain": [
       "[(1, 3), (1, 9), (3, 9)]"
      ]
     },
     "execution_count": 20,
     "metadata": {},
     "output_type": "execute_result"
    }
   ],
   "source": [
    "answer = []\n",
    "area = brown + yellow\n",
    "temp = []\n",
    "for i in range(1, area+1):\n",
    "    if area % i == 0:\n",
    "        temp.append(i)\n",
    "candi = list(combinations(temp,2))\n",
    "candi"
   ]
  },
  {
   "cell_type": "code",
   "execution_count": 18,
   "metadata": {},
   "outputs": [],
   "source": [
    "from itertools import permutations"
   ]
  },
  {
   "cell_type": "code",
   "execution_count": 19,
   "metadata": {},
   "outputs": [
    {
     "data": {
      "text/plain": [
       "[(1, 3), (1, 9), (3, 1), (3, 9), (9, 1), (9, 3)]"
      ]
     },
     "execution_count": 19,
     "metadata": {},
     "output_type": "execute_result"
    }
   ],
   "source": [
    "answer = []\n",
    "area = brown + yellow\n",
    "temp = []\n",
    "for i in range(1, area+1):\n",
    "    if area % i == 0:\n",
    "        temp.append(i)\n",
    "candi = list(permutations(temp,2))\n",
    "candi\n"
   ]
  },
  {
   "cell_type": "markdown",
   "metadata": {},
   "source": [
    "순열이나 조합을 이용해선 3 by 3 같은 경우를 반환할 수 없구나..\n",
    "\n",
    "문제의 조건을 생각해보면,\n",
    "\n",
    "(1) w > d\n",
    "\n",
    "(2) (w-2) * (d -2) = yellow\n",
    "\n",
    "(3) w * d == brown + yellow\n"
   ]
  },
  {
   "cell_type": "markdown",
   "metadata": {},
   "source": [
    "뚀오잉!\n",
    "\n",
    "노란색카펫의 약수를 중복 허용해 짝을 구하고 짝의 각각에 +2 한 후 곱한 값이 area, 즉 (brown + yellow)가 되도록 로직을 짜면 어떨까"
   ]
  },
  {
   "cell_type": "code",
   "execution_count": 30,
   "metadata": {},
   "outputs": [],
   "source": [
    "def get_aliquot(yellow):\n",
    "    temp = []\n",
    "    for i in range(1, yellow+1):\n",
    "        if yellow % i == 0:\n",
    "            temp.append(i)\n",
    "    # temp\n",
    "    return list(map(lambda x: x+2, temp))"
   ]
  },
  {
   "cell_type": "code",
   "execution_count": 47,
   "metadata": {},
   "outputs": [
    {
     "data": {
      "text/plain": [
       "[]"
      ]
     },
     "execution_count": 47,
     "metadata": {},
     "output_type": "execute_result"
    }
   ],
   "source": [
    "from itertools import permutations, combinations, combinations_with_replacement\n",
    "\n",
    "list(permutations([1],2))"
   ]
  },
  {
   "cell_type": "code",
   "execution_count": 36,
   "metadata": {},
   "outputs": [
    {
     "data": {
      "text/plain": [
       "[]"
      ]
     },
     "execution_count": 36,
     "metadata": {},
     "output_type": "execute_result"
    }
   ],
   "source": [
    "list(combinations([1],2))"
   ]
  },
  {
   "cell_type": "code",
   "execution_count": 46,
   "metadata": {},
   "outputs": [
    {
     "data": {
      "text/plain": [
       "[(1, 1)]"
      ]
     },
     "execution_count": 46,
     "metadata": {},
     "output_type": "execute_result"
    }
   ],
   "source": [
    "list(combinations_with_replacement([1],2))"
   ]
  },
  {
   "cell_type": "code",
   "execution_count": 38,
   "metadata": {},
   "outputs": [
    {
     "data": {
      "text/plain": [
       "[(1, 1), (1, 2), (2, 2)]"
      ]
     },
     "execution_count": 38,
     "metadata": {},
     "output_type": "execute_result"
    }
   ],
   "source": [
    "list(combinations_with_replacement([1,2],2))"
   ]
  },
  {
   "cell_type": "code",
   "execution_count": 42,
   "metadata": {},
   "outputs": [
    {
     "data": {
      "text/plain": [
       "[[3, 3]]"
      ]
     },
     "execution_count": 42,
     "metadata": {},
     "output_type": "execute_result"
    }
   ],
   "source": [
    "[[i+2,j+2] for i,j in [(1, 1), (1, 2), (2, 2)] if (i+2)*(j+2) == 9]"
   ]
  },
  {
   "cell_type": "code",
   "execution_count": 48,
   "metadata": {},
   "outputs": [],
   "source": [
    "from itertools import combinations_with_replacement\n",
    "def solution(brown, yellow):\n",
    "    temp = []\n",
    "    [temp.append(i) for i in range(1, yellow+1) if yellow % i == 0]\n",
    "    yellow_aliquot = list(combinations_with_replacement(temp, 2))\n",
    "    result = [[i+2, j+2] for i,j in yellow_aliquot if (i+2)*(j+2) == brown + yellow]\n",
    "    answer = sorted(result[0], key = lambda x: -x)\n",
    "    return answer"
   ]
  },
  {
   "cell_type": "code",
   "execution_count": 49,
   "metadata": {},
   "outputs": [
    {
     "data": {
      "text/plain": [
       "[3, 3]"
      ]
     },
     "execution_count": 49,
     "metadata": {},
     "output_type": "execute_result"
    }
   ],
   "source": [
    "solution(8,1)"
   ]
  },
  {
   "cell_type": "code",
   "execution_count": 50,
   "metadata": {},
   "outputs": [
    {
     "data": {
      "text/plain": [
       "[4, 3]"
      ]
     },
     "execution_count": 50,
     "metadata": {},
     "output_type": "execute_result"
    }
   ],
   "source": [
    "solution(10,2)"
   ]
  },
  {
   "cell_type": "code",
   "execution_count": 51,
   "metadata": {},
   "outputs": [
    {
     "data": {
      "text/plain": [
       "[8, 6]"
      ]
     },
     "execution_count": 51,
     "metadata": {},
     "output_type": "execute_result"
    }
   ],
   "source": [
    "solution(24,24)"
   ]
  },
  {
   "cell_type": "markdown",
   "metadata": {},
   "source": [
    "### 다른 사람 풀이 01\n",
    "이건 둘레의 길이를 이용했다고"
   ]
  },
  {
   "cell_type": "code",
   "execution_count": null,
   "metadata": {},
   "outputs": [],
   "source": [
    "def solution(brown, red):\n",
    "    for i in range(1, int(red**(1/2))+1):\n",
    "        if red % i == 0:\n",
    "            if 2*(i + red//i) == brown-4:\n",
    "                return [red//i+2, i+2]"
   ]
  },
  {
   "cell_type": "markdown",
   "metadata": {},
   "source": [
    "### 다른 사람 풀이 02\n",
    "이건 근의 공식 이용했다\n",
    "\n"
   ]
  },
  {
   "cell_type": "code",
   "execution_count": null,
   "metadata": {},
   "outputs": [],
   "source": [
    "import math\n",
    "def solution(brown, yellow):\n",
    "    w = ((brown+4)/2 + math.sqrt(((brown+4)/2)**2-4*(brown+yellow)))/2\n",
    "    h = ((brown+4)/2 - math.sqrt(((brown+4)/2)**2-4*(brown+yellow)))/2\n",
    "    return [w,h]"
   ]
  },
  {
   "cell_type": "markdown",
   "metadata": {},
   "source": [
    "### 다른 사람 풀이 03\n",
    "음.. 길이로 접근했는데 경우의 수가 아니라 면적으로 계산하는 걸로 접근했구나"
   ]
  },
  {
   "cell_type": "code",
   "execution_count": null,
   "metadata": {},
   "outputs": [],
   "source": [
    "def solution(brown, red):\n",
    "    nm = brown + red\n",
    "    for n in range(1, nm+1):\n",
    "        if nm%n != 0:\n",
    "            continue\n",
    "        m = nm//n\n",
    "        if (n-2)*(m-2) == red:\n",
    "            return sorted([n, m], reverse = True)"
   ]
  },
  {
   "cell_type": "markdown",
   "metadata": {},
   "source": [
    "### 다른 사람 풀이 04\n",
    "\n",
    "이것도 면적으로.. 완전탐색에 집착할 필요는 없나보군..."
   ]
  },
  {
   "cell_type": "code",
   "execution_count": null,
   "metadata": {},
   "outputs": [],
   "source": [
    "def solution(brown, yellow):\n",
    "    mn = brown + yellow\n",
    "    for m in range(3, int(mn ** 0.5) + 1):\n",
    "        if mn % m == 0 and 2 * (mn // m + m - 2) == brown:\n",
    "            return [mn // m, m]"
   ]
  }
 ],
 "metadata": {
  "interpreter": {
   "hash": "35ed88a844549ed1dac1a7f37b7dbf0b748b418d1d8529676b850db54c710907"
  },
  "kernelspec": {
   "display_name": "Python 3.8.5 ('venv': venv)",
   "language": "python",
   "name": "python3"
  },
  "language_info": {
   "codemirror_mode": {
    "name": "ipython",
    "version": 3
   },
   "file_extension": ".py",
   "mimetype": "text/x-python",
   "name": "python",
   "nbconvert_exporter": "python",
   "pygments_lexer": "ipython3",
   "version": "3.8.5"
  },
  "orig_nbformat": 4
 },
 "nbformat": 4,
 "nbformat_minor": 2
}
