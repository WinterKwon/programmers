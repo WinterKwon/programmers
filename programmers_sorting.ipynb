{
 "cells": [
  {
   "cell_type": "code",
   "execution_count": 1,
   "metadata": {},
   "outputs": [],
   "source": [
    "array = [1, 5, 2, 6, 3, 7, 4]\n",
    "commands = [[2, 5, 3], [4, 4, 1], [1, 7, 3]]"
   ]
  },
  {
   "cell_type": "code",
   "execution_count": 6,
   "metadata": {},
   "outputs": [
    {
     "data": {
      "text/plain": [
       "[2, 6, 3, 7]"
      ]
     },
     "execution_count": 6,
     "metadata": {},
     "output_type": "execute_result"
    }
   ],
   "source": [
    "array[2:6]"
   ]
  },
  {
   "cell_type": "code",
   "execution_count": 8,
   "metadata": {},
   "outputs": [
    {
     "name": "stdout",
     "output_type": "stream",
     "text": [
      "[2, 5, 3]\n",
      "[2, 3, 5, 6]\n",
      "5\n",
      "[4, 4, 1]\n",
      "[6]\n",
      "6\n",
      "[1, 7, 3]\n",
      "[1, 2, 3, 4, 5, 6, 7]\n",
      "3\n"
     ]
    },
    {
     "data": {
      "text/plain": [
       "[[2, 3, 5, 6], [6], [1, 2, 3, 4, 5, 6, 7]]"
      ]
     },
     "execution_count": 8,
     "metadata": {},
     "output_type": "execute_result"
    }
   ],
   "source": [
    "answer = []\n",
    "num = ''\n",
    "for i in range(len(commands)):\n",
    "    condi = commands[i]\n",
    "    print(condi)\n",
    "    num = sorted(array[condi[0]-1:condi[1]])\n",
    "    print(num)\n",
    "    print(num[condi[2]-1])\n",
    "    answer.append(num)\n",
    "answer "
   ]
  },
  {
   "cell_type": "code",
   "execution_count": null,
   "metadata": {},
   "outputs": [],
   "source": [
    "def solution(array, commands):\n",
    "    answer = []\n",
    "    \n",
    "    \n",
    "    \n",
    "    num = ''\n",
    "    for i in range(len(commands)):\n",
    "        condi = commands[i]\n",
    "        num = sorted(array[condi[0]-1:condi[1]])[condi[2]-1]\n",
    "        answer.append(num)\n",
    "    \n",
    "    return answer"
   ]
  },
  {
   "cell_type": "markdown",
   "metadata": {},
   "source": [
    "### 가장 큰 수 정렬\n",
    "\n",
    "0 또는 양의 정수가 담긴 배열 numbers가 매개변수로 주어질 때, 순서를 재배치하여 만들 수 있는 가장 큰 수를 문자열로 바꾸어 return 하도록 solution 함수를 작성해주세요."
   ]
  },
  {
   "cell_type": "markdown",
   "metadata": {},
   "source": [
    "* 시도 1. 요소의 첫번째자리 비교해 가장 큰수 구하기"
   ]
  },
  {
   "cell_type": "code",
   "execution_count": 12,
   "metadata": {},
   "outputs": [
    {
     "data": {
      "text/plain": [
       "'9'"
      ]
     },
     "execution_count": 12,
     "metadata": {},
     "output_type": "execute_result"
    }
   ],
   "source": [
    "ex = [3, 30, 34, 5, 9]\n",
    "ex_str = list(map(str, ex))\n",
    "max([e[0] for e in ex_str])"
   ]
  },
  {
   "cell_type": "code",
   "execution_count": 13,
   "metadata": {},
   "outputs": [
    {
     "data": {
      "text/plain": [
       "['9']"
      ]
     },
     "execution_count": 13,
     "metadata": {},
     "output_type": "execute_result"
    }
   ],
   "source": [
    "answer = []\n",
    "answer.append(max([e[0] for e in ex_str]))\n",
    "answer"
   ]
  },
  {
   "cell_type": "code",
   "execution_count": 15,
   "metadata": {},
   "outputs": [
    {
     "data": {
      "text/plain": [
       "['3', '30', '34', '5']"
      ]
     },
     "execution_count": 15,
     "metadata": {},
     "output_type": "execute_result"
    }
   ],
   "source": [
    "ex_str.remove(max([e[0] for e in ex_str]))\n",
    "ex_str"
   ]
  },
  {
   "cell_type": "code",
   "execution_count": 10,
   "metadata": {},
   "outputs": [
    {
     "data": {
      "text/plain": [
       "['3', '3', '3', '5', '9']"
      ]
     },
     "execution_count": 10,
     "metadata": {},
     "output_type": "execute_result"
    }
   ],
   "source": [
    "[max(e[0]) for e in ex_str]"
   ]
  },
  {
   "cell_type": "code",
   "execution_count": 17,
   "metadata": {},
   "outputs": [],
   "source": [
    "ex = [3, 30, 34, 5, 9]\n",
    "ex_str = list(map(str, ex))"
   ]
  },
  {
   "cell_type": "code",
   "execution_count": 21,
   "metadata": {},
   "outputs": [
    {
     "data": {
      "text/plain": [
       "'3303459'"
      ]
     },
     "execution_count": 21,
     "metadata": {},
     "output_type": "execute_result"
    }
   ],
   "source": [
    "''.join(ex_str)"
   ]
  },
  {
   "cell_type": "code",
   "execution_count": null,
   "metadata": {},
   "outputs": [],
   "source": [
    "while len(ex_str)>0:\n",
    "    cur = ex_str  ## stack/queue처럼 접근.. 이 문제는 정렬임"
   ]
  },
  {
   "cell_type": "markdown",
   "metadata": {},
   "source": [
    "* 시도 2.  가능한 조합의 모든 수 중 가장 큰 것\n"
   ]
  },
  {
   "cell_type": "code",
   "execution_count": 22,
   "metadata": {},
   "outputs": [],
   "source": [
    "import itertools"
   ]
  },
  {
   "cell_type": "code",
   "execution_count": 29,
   "metadata": {},
   "outputs": [
    {
     "data": {
      "text/plain": [
       "[('3', '30', '34', '5', '9'),\n",
       " ('3', '30', '34', '9', '5'),\n",
       " ('3', '30', '5', '34', '9'),\n",
       " ('3', '30', '5', '9', '34'),\n",
       " ('3', '30', '9', '34', '5'),\n",
       " ('3', '30', '9', '5', '34'),\n",
       " ('3', '34', '30', '5', '9'),\n",
       " ('3', '34', '30', '9', '5'),\n",
       " ('3', '34', '5', '30', '9'),\n",
       " ('3', '34', '5', '9', '30'),\n",
       " ('3', '34', '9', '30', '5'),\n",
       " ('3', '34', '9', '5', '30'),\n",
       " ('3', '5', '30', '34', '9'),\n",
       " ('3', '5', '30', '9', '34'),\n",
       " ('3', '5', '34', '30', '9'),\n",
       " ('3', '5', '34', '9', '30'),\n",
       " ('3', '5', '9', '30', '34'),\n",
       " ('3', '5', '9', '34', '30'),\n",
       " ('3', '9', '30', '34', '5'),\n",
       " ('3', '9', '30', '5', '34'),\n",
       " ('3', '9', '34', '30', '5'),\n",
       " ('3', '9', '34', '5', '30'),\n",
       " ('3', '9', '5', '30', '34'),\n",
       " ('3', '9', '5', '34', '30'),\n",
       " ('30', '3', '34', '5', '9'),\n",
       " ('30', '3', '34', '9', '5'),\n",
       " ('30', '3', '5', '34', '9'),\n",
       " ('30', '3', '5', '9', '34'),\n",
       " ('30', '3', '9', '34', '5'),\n",
       " ('30', '3', '9', '5', '34'),\n",
       " ('30', '34', '3', '5', '9'),\n",
       " ('30', '34', '3', '9', '5'),\n",
       " ('30', '34', '5', '3', '9'),\n",
       " ('30', '34', '5', '9', '3'),\n",
       " ('30', '34', '9', '3', '5'),\n",
       " ('30', '34', '9', '5', '3'),\n",
       " ('30', '5', '3', '34', '9'),\n",
       " ('30', '5', '3', '9', '34'),\n",
       " ('30', '5', '34', '3', '9'),\n",
       " ('30', '5', '34', '9', '3'),\n",
       " ('30', '5', '9', '3', '34'),\n",
       " ('30', '5', '9', '34', '3'),\n",
       " ('30', '9', '3', '34', '5'),\n",
       " ('30', '9', '3', '5', '34'),\n",
       " ('30', '9', '34', '3', '5'),\n",
       " ('30', '9', '34', '5', '3'),\n",
       " ('30', '9', '5', '3', '34'),\n",
       " ('30', '9', '5', '34', '3'),\n",
       " ('34', '3', '30', '5', '9'),\n",
       " ('34', '3', '30', '9', '5'),\n",
       " ('34', '3', '5', '30', '9'),\n",
       " ('34', '3', '5', '9', '30'),\n",
       " ('34', '3', '9', '30', '5'),\n",
       " ('34', '3', '9', '5', '30'),\n",
       " ('34', '30', '3', '5', '9'),\n",
       " ('34', '30', '3', '9', '5'),\n",
       " ('34', '30', '5', '3', '9'),\n",
       " ('34', '30', '5', '9', '3'),\n",
       " ('34', '30', '9', '3', '5'),\n",
       " ('34', '30', '9', '5', '3'),\n",
       " ('34', '5', '3', '30', '9'),\n",
       " ('34', '5', '3', '9', '30'),\n",
       " ('34', '5', '30', '3', '9'),\n",
       " ('34', '5', '30', '9', '3'),\n",
       " ('34', '5', '9', '3', '30'),\n",
       " ('34', '5', '9', '30', '3'),\n",
       " ('34', '9', '3', '30', '5'),\n",
       " ('34', '9', '3', '5', '30'),\n",
       " ('34', '9', '30', '3', '5'),\n",
       " ('34', '9', '30', '5', '3'),\n",
       " ('34', '9', '5', '3', '30'),\n",
       " ('34', '9', '5', '30', '3'),\n",
       " ('5', '3', '30', '34', '9'),\n",
       " ('5', '3', '30', '9', '34'),\n",
       " ('5', '3', '34', '30', '9'),\n",
       " ('5', '3', '34', '9', '30'),\n",
       " ('5', '3', '9', '30', '34'),\n",
       " ('5', '3', '9', '34', '30'),\n",
       " ('5', '30', '3', '34', '9'),\n",
       " ('5', '30', '3', '9', '34'),\n",
       " ('5', '30', '34', '3', '9'),\n",
       " ('5', '30', '34', '9', '3'),\n",
       " ('5', '30', '9', '3', '34'),\n",
       " ('5', '30', '9', '34', '3'),\n",
       " ('5', '34', '3', '30', '9'),\n",
       " ('5', '34', '3', '9', '30'),\n",
       " ('5', '34', '30', '3', '9'),\n",
       " ('5', '34', '30', '9', '3'),\n",
       " ('5', '34', '9', '3', '30'),\n",
       " ('5', '34', '9', '30', '3'),\n",
       " ('5', '9', '3', '30', '34'),\n",
       " ('5', '9', '3', '34', '30'),\n",
       " ('5', '9', '30', '3', '34'),\n",
       " ('5', '9', '30', '34', '3'),\n",
       " ('5', '9', '34', '3', '30'),\n",
       " ('5', '9', '34', '30', '3'),\n",
       " ('9', '3', '30', '34', '5'),\n",
       " ('9', '3', '30', '5', '34'),\n",
       " ('9', '3', '34', '30', '5'),\n",
       " ('9', '3', '34', '5', '30'),\n",
       " ('9', '3', '5', '30', '34'),\n",
       " ('9', '3', '5', '34', '30'),\n",
       " ('9', '30', '3', '34', '5'),\n",
       " ('9', '30', '3', '5', '34'),\n",
       " ('9', '30', '34', '3', '5'),\n",
       " ('9', '30', '34', '5', '3'),\n",
       " ('9', '30', '5', '3', '34'),\n",
       " ('9', '30', '5', '34', '3'),\n",
       " ('9', '34', '3', '30', '5'),\n",
       " ('9', '34', '3', '5', '30'),\n",
       " ('9', '34', '30', '3', '5'),\n",
       " ('9', '34', '30', '5', '3'),\n",
       " ('9', '34', '5', '3', '30'),\n",
       " ('9', '34', '5', '30', '3'),\n",
       " ('9', '5', '3', '30', '34'),\n",
       " ('9', '5', '3', '34', '30'),\n",
       " ('9', '5', '30', '3', '34'),\n",
       " ('9', '5', '30', '34', '3'),\n",
       " ('9', '5', '34', '3', '30'),\n",
       " ('9', '5', '34', '30', '3')]"
      ]
     },
     "execution_count": 29,
     "metadata": {},
     "output_type": "execute_result"
    }
   ],
   "source": [
    "result = list(itertools.permutations(ex_str,5))\n",
    "result"
   ]
  },
  {
   "cell_type": "code",
   "execution_count": 26,
   "metadata": {},
   "outputs": [
    {
     "data": {
      "text/plain": [
       "9534330"
      ]
     },
     "execution_count": 26,
     "metadata": {},
     "output_type": "execute_result"
    }
   ],
   "source": [
    "max([int(''.join(e)) for e in result])"
   ]
  },
  {
   "cell_type": "code",
   "execution_count": 30,
   "metadata": {},
   "outputs": [
    {
     "data": {
      "text/plain": [
       "('9', '5', '34', '30', '3')"
      ]
     },
     "execution_count": 30,
     "metadata": {},
     "output_type": "execute_result"
    }
   ],
   "source": [
    "## max()안구하고 문자열일때 sort하면?\n",
    "result.sort()\n",
    "result[-1]"
   ]
  },
  {
   "cell_type": "code",
   "execution_count": 34,
   "metadata": {},
   "outputs": [],
   "source": [
    "## sort 다시\n",
    "resort = [''.join(e) for e in list(itertools.permutations(ex_str,5))].sort()\n",
    "resort  ## NoneType object"
   ]
  },
  {
   "cell_type": "code",
   "execution_count": 39,
   "metadata": {},
   "outputs": [
    {
     "data": {
      "text/plain": [
       "'9534330'"
      ]
     },
     "execution_count": 39,
     "metadata": {},
     "output_type": "execute_result"
    }
   ],
   "source": [
    "resort = list(map(''.join, itertools.permutations(ex_str)))\n",
    "resort.sort()\n",
    "resort[-1]"
   ]
  },
  {
   "cell_type": "code",
   "execution_count": null,
   "metadata": {},
   "outputs": [],
   "source": [
    "# 그러나 시간 복잡도는 큰 차이가 없다...\n",
    "\n"
   ]
  },
  {
   "cell_type": "code",
   "execution_count": 27,
   "metadata": {},
   "outputs": [
    {
     "data": {
      "text/plain": [
       "[(3, 30, 34, 5, 9),\n",
       " (3, 30, 34, 9, 5),\n",
       " (3, 30, 5, 34, 9),\n",
       " (3, 30, 5, 9, 34),\n",
       " (3, 30, 9, 34, 5),\n",
       " (3, 30, 9, 5, 34),\n",
       " (3, 34, 30, 5, 9),\n",
       " (3, 34, 30, 9, 5),\n",
       " (3, 34, 5, 30, 9),\n",
       " (3, 34, 5, 9, 30),\n",
       " (3, 34, 9, 30, 5),\n",
       " (3, 34, 9, 5, 30),\n",
       " (3, 5, 30, 34, 9),\n",
       " (3, 5, 30, 9, 34),\n",
       " (3, 5, 34, 30, 9),\n",
       " (3, 5, 34, 9, 30),\n",
       " (3, 5, 9, 30, 34),\n",
       " (3, 5, 9, 34, 30),\n",
       " (3, 9, 30, 34, 5),\n",
       " (3, 9, 30, 5, 34),\n",
       " (3, 9, 34, 30, 5),\n",
       " (3, 9, 34, 5, 30),\n",
       " (3, 9, 5, 30, 34),\n",
       " (3, 9, 5, 34, 30),\n",
       " (30, 3, 34, 5, 9),\n",
       " (30, 3, 34, 9, 5),\n",
       " (30, 3, 5, 34, 9),\n",
       " (30, 3, 5, 9, 34),\n",
       " (30, 3, 9, 34, 5),\n",
       " (30, 3, 9, 5, 34),\n",
       " (30, 34, 3, 5, 9),\n",
       " (30, 34, 3, 9, 5),\n",
       " (30, 34, 5, 3, 9),\n",
       " (30, 34, 5, 9, 3),\n",
       " (30, 34, 9, 3, 5),\n",
       " (30, 34, 9, 5, 3),\n",
       " (30, 5, 3, 34, 9),\n",
       " (30, 5, 3, 9, 34),\n",
       " (30, 5, 34, 3, 9),\n",
       " (30, 5, 34, 9, 3),\n",
       " (30, 5, 9, 3, 34),\n",
       " (30, 5, 9, 34, 3),\n",
       " (30, 9, 3, 34, 5),\n",
       " (30, 9, 3, 5, 34),\n",
       " (30, 9, 34, 3, 5),\n",
       " (30, 9, 34, 5, 3),\n",
       " (30, 9, 5, 3, 34),\n",
       " (30, 9, 5, 34, 3),\n",
       " (34, 3, 30, 5, 9),\n",
       " (34, 3, 30, 9, 5),\n",
       " (34, 3, 5, 30, 9),\n",
       " (34, 3, 5, 9, 30),\n",
       " (34, 3, 9, 30, 5),\n",
       " (34, 3, 9, 5, 30),\n",
       " (34, 30, 3, 5, 9),\n",
       " (34, 30, 3, 9, 5),\n",
       " (34, 30, 5, 3, 9),\n",
       " (34, 30, 5, 9, 3),\n",
       " (34, 30, 9, 3, 5),\n",
       " (34, 30, 9, 5, 3),\n",
       " (34, 5, 3, 30, 9),\n",
       " (34, 5, 3, 9, 30),\n",
       " (34, 5, 30, 3, 9),\n",
       " (34, 5, 30, 9, 3),\n",
       " (34, 5, 9, 3, 30),\n",
       " (34, 5, 9, 30, 3),\n",
       " (34, 9, 3, 30, 5),\n",
       " (34, 9, 3, 5, 30),\n",
       " (34, 9, 30, 3, 5),\n",
       " (34, 9, 30, 5, 3),\n",
       " (34, 9, 5, 3, 30),\n",
       " (34, 9, 5, 30, 3),\n",
       " (5, 3, 30, 34, 9),\n",
       " (5, 3, 30, 9, 34),\n",
       " (5, 3, 34, 30, 9),\n",
       " (5, 3, 34, 9, 30),\n",
       " (5, 3, 9, 30, 34),\n",
       " (5, 3, 9, 34, 30),\n",
       " (5, 30, 3, 34, 9),\n",
       " (5, 30, 3, 9, 34),\n",
       " (5, 30, 34, 3, 9),\n",
       " (5, 30, 34, 9, 3),\n",
       " (5, 30, 9, 3, 34),\n",
       " (5, 30, 9, 34, 3),\n",
       " (5, 34, 3, 30, 9),\n",
       " (5, 34, 3, 9, 30),\n",
       " (5, 34, 30, 3, 9),\n",
       " (5, 34, 30, 9, 3),\n",
       " (5, 34, 9, 3, 30),\n",
       " (5, 34, 9, 30, 3),\n",
       " (5, 9, 3, 30, 34),\n",
       " (5, 9, 3, 34, 30),\n",
       " (5, 9, 30, 3, 34),\n",
       " (5, 9, 30, 34, 3),\n",
       " (5, 9, 34, 3, 30),\n",
       " (5, 9, 34, 30, 3),\n",
       " (9, 3, 30, 34, 5),\n",
       " (9, 3, 30, 5, 34),\n",
       " (9, 3, 34, 30, 5),\n",
       " (9, 3, 34, 5, 30),\n",
       " (9, 3, 5, 30, 34),\n",
       " (9, 3, 5, 34, 30),\n",
       " (9, 30, 3, 34, 5),\n",
       " (9, 30, 3, 5, 34),\n",
       " (9, 30, 34, 3, 5),\n",
       " (9, 30, 34, 5, 3),\n",
       " (9, 30, 5, 3, 34),\n",
       " (9, 30, 5, 34, 3),\n",
       " (9, 34, 3, 30, 5),\n",
       " (9, 34, 3, 5, 30),\n",
       " (9, 34, 30, 3, 5),\n",
       " (9, 34, 30, 5, 3),\n",
       " (9, 34, 5, 3, 30),\n",
       " (9, 34, 5, 30, 3),\n",
       " (9, 5, 3, 30, 34),\n",
       " (9, 5, 3, 34, 30),\n",
       " (9, 5, 30, 3, 34),\n",
       " (9, 5, 30, 34, 3),\n",
       " (9, 5, 34, 3, 30),\n",
       " (9, 5, 34, 30, 3)]"
      ]
     },
     "execution_count": 27,
     "metadata": {},
     "output_type": "execute_result"
    }
   ],
   "source": [
    "result = list(itertools.permutations(ex,5))\n",
    "result"
   ]
  },
  {
   "cell_type": "code",
   "execution_count": 28,
   "metadata": {},
   "outputs": [
    {
     "ename": "TypeError",
     "evalue": "sequence item 0: expected str instance, int found",
     "output_type": "error",
     "traceback": [
      "\u001b[1;31m---------------------------------------------------------------------------\u001b[0m",
      "\u001b[1;31mTypeError\u001b[0m                                 Traceback (most recent call last)",
      "\u001b[1;32m~\\AppData\\Local\\Temp/ipykernel_23448/2398928202.py\u001b[0m in \u001b[0;36m<module>\u001b[1;34m\u001b[0m\n\u001b[1;32m----> 1\u001b[1;33m \u001b[0mmax\u001b[0m\u001b[1;33m(\u001b[0m\u001b[1;33m[\u001b[0m\u001b[0mint\u001b[0m\u001b[1;33m(\u001b[0m\u001b[1;34m''\u001b[0m\u001b[1;33m.\u001b[0m\u001b[0mjoin\u001b[0m\u001b[1;33m(\u001b[0m\u001b[0me\u001b[0m\u001b[1;33m)\u001b[0m\u001b[1;33m)\u001b[0m \u001b[1;32mfor\u001b[0m \u001b[0me\u001b[0m \u001b[1;32min\u001b[0m \u001b[0mresult\u001b[0m\u001b[1;33m]\u001b[0m\u001b[1;33m)\u001b[0m\u001b[1;33m\u001b[0m\u001b[1;33m\u001b[0m\u001b[0m\n\u001b[0m",
      "\u001b[1;32m~\\AppData\\Local\\Temp/ipykernel_23448/2398928202.py\u001b[0m in \u001b[0;36m<listcomp>\u001b[1;34m(.0)\u001b[0m\n\u001b[1;32m----> 1\u001b[1;33m \u001b[0mmax\u001b[0m\u001b[1;33m(\u001b[0m\u001b[1;33m[\u001b[0m\u001b[0mint\u001b[0m\u001b[1;33m(\u001b[0m\u001b[1;34m''\u001b[0m\u001b[1;33m.\u001b[0m\u001b[0mjoin\u001b[0m\u001b[1;33m(\u001b[0m\u001b[0me\u001b[0m\u001b[1;33m)\u001b[0m\u001b[1;33m)\u001b[0m \u001b[1;32mfor\u001b[0m \u001b[0me\u001b[0m \u001b[1;32min\u001b[0m \u001b[0mresult\u001b[0m\u001b[1;33m]\u001b[0m\u001b[1;33m)\u001b[0m\u001b[1;33m\u001b[0m\u001b[1;33m\u001b[0m\u001b[0m\n\u001b[0m",
      "\u001b[1;31mTypeError\u001b[0m: sequence item 0: expected str instance, int found"
     ]
    }
   ],
   "source": [
    "max([int(''.join(e)) for e in result])"
   ]
  },
  {
   "cell_type": "markdown",
   "metadata": {},
   "source": [
    "아래 함수는 시간초과..\n",
    "빅오를 줄여라.."
   ]
  },
  {
   "cell_type": "code",
   "execution_count": null,
   "metadata": {},
   "outputs": [],
   "source": [
    "import itertools\n",
    "\n",
    "def solution(numbers):\n",
    "    answer = ''\n",
    "    \n",
    "    # 문자형으로 치환\n",
    "    temp = list(map(str,numbers))\n",
    "    \n",
    "    # 정렬 경우의 수\n",
    "    result = list(itertools.permutations(temp, len(numbers)))\n",
    "    \n",
    "    # max()\n",
    "    max_num = max([int(''.join(e)) for e in result])\n",
    "    \n",
    "    # 반환은 다시 문자로\n",
    "    answer = str(max_num)\n",
    "    return answer"
   ]
  },
  {
   "cell_type": "code",
   "execution_count": null,
   "metadata": {},
   "outputs": [],
   "source": [
    "    \n",
    "#     # 문자형으로 치환\n",
    "#     temp = list(map(str,numbers))\n",
    "    \n",
    "#     # 정렬 경우의 수\n",
    "#     result = list(itertools.permutations(temp, len(numbers)))\n",
    "    \n",
    "#     # max()\n",
    "#     max_num = max([int(''.join(e)) for e in result])\n",
    "    \n",
    "#     # 반환은 다시 문자로\n",
    "#     answer = str(max_num)\n",
    "\n",
    "#     # 시간복잡도 줄이기\n",
    "#     # 일단 문자형으로 변환한 리스트는 필요\n",
    "#     temp = list(map(str, numbers))\n",
    "    \n",
    "#     # max()대신 sort()이용\n",
    "#     result = list(map(''.join, itertools.permutations(temp)))\n",
    "#     result.sort()\n",
    "#     answer = result[-1]\n",
    "    # 의미있는 변화 없음. 영전히 테스트 불통"
   ]
  },
  {
   "cell_type": "markdown",
   "metadata": {},
   "source": [
    "* 시도 3. 자리수가 4자리 (1000)까지인 것 활용하기"
   ]
  },
  {
   "cell_type": "code",
   "execution_count": 53,
   "metadata": {},
   "outputs": [
    {
     "data": {
      "text/plain": [
       "'9999'"
      ]
     },
     "execution_count": 53,
     "metadata": {},
     "output_type": "execute_result"
    }
   ],
   "source": [
    "## numbers의 요소를 str로 바꿔 한자리 숫자도 있으니 *4 한후 [:4]로 잘라주면 4자리까지 비교 가능\n",
    "## 그 숫자가 가장 크면 answer.append하고 remove.  => 처음부터 문자열 반환 요구있었으므로 초깃값을 '' 이후엔 +=\n",
    "## 가장 크면은 문자형인 상태니 정렬로 \n",
    "numbers = [3, 30, 34, 5, 9]\n",
    "temp = [(str(e)*4)[:4] for e in numbers]  ## .sort()바로 쓰면 NoneType 에러..\n",
    "temp.sort(reverse=True)  #[0]도 subscriptable하지 않으므로 못쓴다\n",
    "temp[0]\n"
   ]
  },
  {
   "cell_type": "code",
   "execution_count": 51,
   "metadata": {},
   "outputs": [
    {
     "data": {
      "text/plain": [
       "'9534330'"
      ]
     },
     "execution_count": 51,
     "metadata": {},
     "output_type": "execute_result"
    }
   ],
   "source": [
    "answer = ''\n",
    "numbers = [3, 30, 34, 5, 9]\n",
    "temp = [str(e)*4 for e in numbers]\n",
    "while len(numbers)>0:\n",
    "    # stemp = temp.sort(reverse=True)  ##Nonetype. 변수에 담을 수 없다. 그냥 sorting만해라\n",
    "    temp.sort(reverse=True)\n",
    "    condi = numbers.pop(0)\n",
    "    if str(condi)*4 == temp[0]:\n",
    "        # answer.append(str(condi))\n",
    "        answer += str(condi)\n",
    "        \n",
    "        temp.pop(0)\n",
    "\n",
    "    else:\n",
    "        numbers.append(str(condi))\n",
    "\n",
    "\n",
    "# ''.join(answer)  \n",
    "answer "
   ]
  },
  {
   "cell_type": "code",
   "execution_count": null,
   "metadata": {},
   "outputs": [],
   "source": [
    "def solutions(numbers):\n",
    "    answer = ''\n",
    "    temp = [str(e)*4 for e in numbers]\n",
    "    while len(numbers)>0:\n",
    "        condi = numbers.pop(0)\n",
    "        temp.sort(reverse=True)\n",
    "        \n",
    "        if str(condi)*4 == temp[0]:\n",
    "            answer+=str(condi)\n",
    "            temp.pop(0)\n",
    "        else:\n",
    "            numbers.append(condi)\n",
    "            \n",
    "    \n",
    "    return answer"
   ]
  },
  {
   "cell_type": "code",
   "execution_count": 57,
   "metadata": {},
   "outputs": [
    {
     "data": {
      "text/plain": [
       "'9534330'"
      ]
     },
     "execution_count": 57,
     "metadata": {},
     "output_type": "execute_result"
    }
   ],
   "source": [
    "## 성능이 나아지긴했으나 아직 통과는 X\n",
    "## pop, append를 줄여야겠군..\n",
    "## hash처음 풀어야 할듯\n",
    "answer = ''\n",
    "numbers = [3, 30, 34, 5, 9]\n",
    "temp = [str(e)*4 for e in numbers]\n",
    "pair = [(t[:4], str(n)) for n, t in zip(numbers, temp)]  ## 정렬 후 비교 위해 temp먼저 오도록\n",
    "\n",
    "pair.sort(reverse=True)\n",
    "while len(pair)>0:\n",
    "    answer += pair[0][1]\n",
    "    pair.pop(0)\n",
    "answer \n",
    "    \n",
    "\n",
    "\n",
    "\n"
   ]
  },
  {
   "cell_type": "code",
   "execution_count": null,
   "metadata": {},
   "outputs": [],
   "source": [
    "def solution(numbers):\n",
    "    answer = ''\n",
    "    temp = [str(e)*4 for e in numbers]\n",
    "    pair = [(t, str(n)) for n, t in zip(numbers, temp)]  ## 정렬 후 비교 위해 temp먼저 오도록\n",
    "\n",
    "    pair.sort(reverse=True)\n",
    "    while len(pair)>0:\n",
    "        answer += pair[0][1]\n",
    "        pair.pop(0)\n",
    "        \n",
    "      \n",
    "    \n",
    "    return answer"
   ]
  },
  {
   "cell_type": "code",
   "execution_count": 59,
   "metadata": {},
   "outputs": [],
   "source": [
    "# test11빼고 모두 통과\n",
    "# test 11의 예시는 [0,0,0] 이 입력. 출력은 \"0\"이 맞으나 위 코드는 \"000\" 나올것\n",
    "   "
   ]
  },
  {
   "cell_type": "code",
   "execution_count": null,
   "metadata": {},
   "outputs": [],
   "source": [
    "def solution(numbers):\n",
    "    answer = ''\n",
    "    temp = [str(e)*4 for e in numbers]\n",
    "    pair = [(t, str(n)) for n, t in zip(numbers, temp)]  ## 정렬 후 비교 위해 temp먼저 오도록\n",
    "\n",
    "    pair.sort(reverse=True)\n",
    "    while len(pair)>0:\n",
    "        \n",
    "        answer += pair[0][1]\n",
    "        pair.pop(0)\n",
    "        \n",
    "    if answer == \"000\":\n",
    "        answer = \"0\"\n",
    "    return answer "
   ]
  },
  {
   "cell_type": "code",
   "execution_count": null,
   "metadata": {},
   "outputs": [],
   "source": [
    "# 11번테스트는 런타임 에러 실패. 다른 케이스에서도 런타임에러..\n",
    "# for 문안에서 또 if 절은 비효율적이구나..\n",
    "# 초기 조건에서 numbers의 합이 0일때 if 문으로 처리.\n",
    "\n"
   ]
  },
  {
   "cell_type": "markdown",
   "metadata": {},
   "source": [
    "### 다른사람 풀이\n",
    "\n",
    "wow!"
   ]
  },
  {
   "cell_type": "code",
   "execution_count": null,
   "metadata": {},
   "outputs": [],
   "source": [
    "\n",
    "def solution(numbers):\n",
    "    numbers = list(map(str, numbers))\n",
    "    numbers.sort(key=lambda x: x*3, reverse=True)\n",
    "    return str(int(''.join(numbers)))"
   ]
  },
  {
   "cell_type": "code",
   "execution_count": 61,
   "metadata": {},
   "outputs": [
    {
     "data": {
      "text/plain": [
       "['0', '0', '0']"
      ]
     },
     "execution_count": 61,
     "metadata": {},
     "output_type": "execute_result"
    }
   ],
   "source": [
    "numbers = [0,0,0]\n",
    "numbers = list(map(str, numbers))\n",
    "numbers"
   ]
  },
  {
   "cell_type": "code",
   "execution_count": 62,
   "metadata": {},
   "outputs": [
    {
     "data": {
      "text/plain": [
       "['0', '0', '0']"
      ]
     },
     "execution_count": 62,
     "metadata": {},
     "output_type": "execute_result"
    }
   ],
   "source": [
    "numbers.sort(key=lambda x: x*3, reverse=True)\n",
    "numbers\n"
   ]
  },
  {
   "cell_type": "code",
   "execution_count": 63,
   "metadata": {},
   "outputs": [
    {
     "data": {
      "text/plain": [
       "'000'"
      ]
     },
     "execution_count": 63,
     "metadata": {},
     "output_type": "execute_result"
    }
   ],
   "source": [
    "''.join(numbers)"
   ]
  },
  {
   "cell_type": "code",
   "execution_count": 64,
   "metadata": {},
   "outputs": [
    {
     "data": {
      "text/plain": [
       "0"
      ]
     },
     "execution_count": 64,
     "metadata": {},
     "output_type": "execute_result"
    }
   ],
   "source": [
    "int('000')"
   ]
  },
  {
   "cell_type": "code",
   "execution_count": null,
   "metadata": {},
   "outputs": [],
   "source": [
    "str(int(''.join(numbers)))"
   ]
  },
  {
   "cell_type": "code",
   "execution_count": null,
   "metadata": {},
   "outputs": [],
   "source": [
    "## 0 처리가 문제일때 int로 해버리면 되구만...\n",
    "# answer = str(int(''.join(n)))"
   ]
  }
 ],
 "metadata": {
  "interpreter": {
   "hash": "35ed88a844549ed1dac1a7f37b7dbf0b748b418d1d8529676b850db54c710907"
  },
  "kernelspec": {
   "display_name": "Python 3.8.5 ('venv': venv)",
   "language": "python",
   "name": "python3"
  },
  "language_info": {
   "codemirror_mode": {
    "name": "ipython",
    "version": 3
   },
   "file_extension": ".py",
   "mimetype": "text/x-python",
   "name": "python",
   "nbconvert_exporter": "python",
   "pygments_lexer": "ipython3",
   "version": "3.8.5"
  },
  "orig_nbformat": 4
 },
 "nbformat": 4,
 "nbformat_minor": 2
}
