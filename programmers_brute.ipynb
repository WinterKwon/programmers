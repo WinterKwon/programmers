{
 "cells": [
  {
   "cell_type": "markdown",
   "metadata": {},
   "source": [
    "### 완전탐색\n",
    "brute force\n",
    "\n",
    "exhastive search"
   ]
  },
  {
   "cell_type": "markdown",
   "metadata": {},
   "source": [
    "1번 수포자가 찍는 방식: 1, 2, 3, 4, 5, 1, 2, 3, 4, 5, ... <br>\n",
    "2번 수포자가 찍는 방식: 2, 1, 2, 3, 2, 4, 2, 5, 2, 1, 2, 3, 2, 4, 2, 5, ... <br>\n",
    "3번 수포자가 찍는 방식: 3, 3, 1, 1, 2, 2, 4, 4, 5, 5, 3, 3, 1, 1, 2, 2, 4, 4, 5, 5, ...\n",
    "\n",
    "1번 문제부터 마지막 문제까지의 정답이 순서대로 들은 배열 answers가 주어졌을 때, 가장 많은 문제를 맞힌 사람이 누구인지 배열에 담아 return 하도록 solution 함수를 작성해주세요."
   ]
  },
  {
   "cell_type": "code",
   "execution_count": 1,
   "metadata": {},
   "outputs": [],
   "source": [
    "answer = []\n",
    "s1 = [1,2,3,4,5]\n",
    "s2 = [2, 1, 2, 3, 2, 4, 2, 5]\n",
    "s3 = [3, 3, 1, 1, 2, 2, 4, 4, 5, 5]"
   ]
  },
  {
   "cell_type": "code",
   "execution_count": 4,
   "metadata": {},
   "outputs": [
    {
     "data": {
      "text/plain": [
       "[True, False, False, True, False]"
      ]
     },
     "execution_count": 4,
     "metadata": {},
     "output_type": "execute_result"
    }
   ],
   "source": [
    "answers = [1,3,2,4,2]\n",
    "list(map(lambda x: x[0] == x[1], zip(s1, answers)))"
   ]
  },
  {
   "cell_type": "code",
   "execution_count": 7,
   "metadata": {},
   "outputs": [
    {
     "data": {
      "text/plain": [
       "[(1, 1), (4, 4)]"
      ]
     },
     "execution_count": 7,
     "metadata": {},
     "output_type": "execute_result"
    }
   ],
   "source": [
    "list(filter(lambda x: x[0] == x[1], zip(s1, answers)))"
   ]
  },
  {
   "cell_type": "code",
   "execution_count": 8,
   "metadata": {},
   "outputs": [
    {
     "data": {
      "text/plain": [
       "[1, 2, 3, 4, 5, 1, 2, 3, 4, 5]"
      ]
     },
     "execution_count": 8,
     "metadata": {},
     "output_type": "execute_result"
    }
   ],
   "source": [
    "s1 * 2 "
   ]
  },
  {
   "cell_type": "code",
   "execution_count": 9,
   "metadata": {},
   "outputs": [
    {
     "data": {
      "text/plain": [
       "[(2, 2), (2, 2)]"
      ]
     },
     "execution_count": 9,
     "metadata": {},
     "output_type": "execute_result"
    }
   ],
   "source": [
    "list(filter(lambda x: x[0] == x[1], zip(s2, answers)))"
   ]
  },
  {
   "cell_type": "code",
   "execution_count": 11,
   "metadata": {},
   "outputs": [
    {
     "data": {
      "text/plain": [
       "[5, 8, 10]"
      ]
     },
     "execution_count": 11,
     "metadata": {},
     "output_type": "execute_result"
    }
   ],
   "source": [
    "s = [s1, s2, s3]\n",
    "s_len = list(map(lambda x: len(x), s))\n",
    "s_len "
   ]
  },
  {
   "cell_type": "code",
   "execution_count": 12,
   "metadata": {},
   "outputs": [
    {
     "data": {
      "text/plain": [
       "[5, 8, 10, 5, 8, 10]"
      ]
     },
     "execution_count": 12,
     "metadata": {},
     "output_type": "execute_result"
    }
   ],
   "source": []
  },
  {
   "cell_type": "code",
   "execution_count": 4,
   "metadata": {},
   "outputs": [
    {
     "data": {
      "text/plain": [
       "[[1, 2, 3, 4, 5, 1, 2, 3, 4, 5],\n",
       " [2, 1, 2, 3, 2, 4, 2, 5, 2, 1, 2, 3, 2, 4, 2, 5],\n",
       " [3, 3, 1, 1, 2, 2, 4, 4, 5, 5, 3, 3, 1, 1, 2, 2, 4, 4, 5, 5]]"
      ]
     },
     "execution_count": 4,
     "metadata": {},
     "output_type": "execute_result"
    }
   ],
   "source": [
    "# s1,2,3의 길이는 각각 다름\n",
    "# 모든 s들의 길이가 answers의 길이보다는 크거나 같아야 함\n",
    "answers = [1,3,2,4,2, 3,4,1,4,2,5,3,2,4,4,1,1]\n",
    "s1 = [1,2,3,4,5]\n",
    "s2 = [2, 1, 2, 3, 2, 4, 2, 5]\n",
    "s3 = [3, 3, 1, 1, 2, 2, 4, 4, 5, 5]\n",
    "s = [s1, s2, s3]\n",
    "for ss in s:\n",
    "    if len(ss) <len(answers):\n",
    "        ss*=2\n",
    "s      "
   ]
  },
  {
   "cell_type": "code",
   "execution_count": 5,
   "metadata": {},
   "outputs": [
    {
     "data": {
      "text/plain": [
       "[[1, 2, 3, 4, 5, 1, 2, 3, 4, 5],\n",
       " [2, 1, 2, 3, 2, 4, 2, 5, 2, 1, 2, 3, 2, 4, 2, 5],\n",
       " [3, 3, 1, 1, 2, 2, 4, 4, 5, 5, 3, 3, 1, 1, 2, 2, 4, 4, 5, 5]]"
      ]
     },
     "execution_count": 5,
     "metadata": {},
     "output_type": "execute_result"
    }
   ],
   "source": [
    "answers = [1,3,2,4,2, 3,4,1,4,2,5,3,2,4,4,1,1]\n",
    "s1 = [1,2,3,4,5]\n",
    "s2 = [2, 1, 2, 3, 2, 4, 2, 5]\n",
    "s3 = [3, 3, 1, 1, 2, 2, 4, 4, 5, 5]\n",
    "s = [s1, s2, s3]\n",
    "s = [ss*2 for ss in s if len(ss)<len(answers)]\n",
    "s"
   ]
  },
  {
   "cell_type": "code",
   "execution_count": 40,
   "metadata": {},
   "outputs": [
    {
     "data": {
      "text/plain": [
       "17"
      ]
     },
     "execution_count": 40,
     "metadata": {},
     "output_type": "execute_result"
    }
   ],
   "source": [
    "s2 = [2, 1, 2, 3, 2, 4, 2, 5]\n",
    "len(s2)\n",
    "answers = [1,3,2,4,2, 3,4,1,4,2,5,3,2,4,4,1,1]\n",
    "len(answers)"
   ]
  },
  {
   "cell_type": "code",
   "execution_count": 38,
   "metadata": {},
   "outputs": [
    {
     "data": {
      "text/plain": [
       "[[1, 2, 3, 4, 5, 1, 2, 3, 4, 5, 1, 2, 3, 4, 5, 1, 2, 3, 4, 5],\n",
       " [2,\n",
       "  1,\n",
       "  2,\n",
       "  3,\n",
       "  2,\n",
       "  4,\n",
       "  2,\n",
       "  5,\n",
       "  2,\n",
       "  1,\n",
       "  2,\n",
       "  3,\n",
       "  2,\n",
       "  4,\n",
       "  2,\n",
       "  5,\n",
       "  2,\n",
       "  1,\n",
       "  2,\n",
       "  3,\n",
       "  2,\n",
       "  4,\n",
       "  2,\n",
       "  5,\n",
       "  2,\n",
       "  1,\n",
       "  2,\n",
       "  3,\n",
       "  2,\n",
       "  4,\n",
       "  2,\n",
       "  5],\n",
       " [3, 3, 1, 1, 2, 2, 4, 4, 5, 5, 3, 3, 1, 1, 2, 2, 4, 4, 5, 5]]"
      ]
     },
     "execution_count": 38,
     "metadata": {},
     "output_type": "execute_result"
    }
   ],
   "source": [
    "## 1-2. s 구하기 다시  => OK\n",
    "answers = [1,3,2,4,2, 3,4,1,4,2,5,3,2,4,4,1,1]\n",
    "s1 = [1,2,3,4,5]\n",
    "s2 = [2, 1, 2, 3, 2, 4, 2, 5]\n",
    "s3 = [3, 3, 1, 1, 2, 2, 4, 4, 5, 5]\n",
    "s = [s1, s2, s3]\n",
    "for i in range(len(s)):\n",
    "    while True:\n",
    "        cnt = 2\n",
    "        if len(s[i])< len(answers):\n",
    "            s[i]= s[i]*cnt \n",
    "            cnt += 1\n",
    "        else:\n",
    "            break\n",
    "s"
   ]
  },
  {
   "cell_type": "code",
   "execution_count": 39,
   "metadata": {},
   "outputs": [
    {
     "data": {
      "text/plain": [
       "[20, 32, 20]"
      ]
     },
     "execution_count": 39,
     "metadata": {},
     "output_type": "execute_result"
    }
   ],
   "source": [
    "s_len = list(map(lambda x: len(x), s))\n",
    "s_len "
   ]
  },
  {
   "cell_type": "code",
   "execution_count": 41,
   "metadata": {},
   "outputs": [
    {
     "data": {
      "text/plain": [
       "[5, 5, 4]"
      ]
     },
     "execution_count": 41,
     "metadata": {},
     "output_type": "execute_result"
    }
   ],
   "source": [
    "answer = []\n",
    "for i in range(3):\n",
    "        answer.append(len(list(filter(lambda x: x[0] == x[1], zip(s[i], answers)))))\n",
    "answer  ## 정답 개수"
   ]
  },
  {
   "cell_type": "code",
   "execution_count": 42,
   "metadata": {},
   "outputs": [
    {
     "data": {
      "text/plain": [
       "[1, 2]"
      ]
     },
     "execution_count": 42,
     "metadata": {},
     "output_type": "execute_result"
    }
   ],
   "source": [
    "m = max(answer)\n",
    "result = [i+1 for i, v in enumerate(answer) if v==m]\n",
    "result"
   ]
  },
  {
   "cell_type": "code",
   "execution_count": 13,
   "metadata": {},
   "outputs": [
    {
     "data": {
      "text/plain": [
       "[3, 5, 4]"
      ]
     },
     "execution_count": 13,
     "metadata": {},
     "output_type": "execute_result"
    }
   ],
   "source": [
    "## 이제 정답과 비교\n",
    "answer = []\n",
    "for i in range(3):\n",
    "    answer.append(len(list(filter(lambda x: x[0] == x[1], zip(s[i], answers)))))\n",
    "# answer.sort()  ## 문제는 맞힌 사람의 index + 1 을정렬하라는 것임\n",
    "answer"
   ]
  },
  {
   "cell_type": "code",
   "execution_count": 14,
   "metadata": {},
   "outputs": [
    {
     "data": {
      "text/plain": [
       "[3, 4, 5]"
      ]
     },
     "execution_count": 14,
     "metadata": {},
     "output_type": "execute_result"
    }
   ],
   "source": [
    "aaa = sorted(answer)\n",
    "aaa"
   ]
  },
  {
   "cell_type": "code",
   "execution_count": 16,
   "metadata": {},
   "outputs": [
    {
     "data": {
      "text/plain": [
       "[1, 3, 2]"
      ]
     },
     "execution_count": 16,
     "metadata": {},
     "output_type": "execute_result"
    }
   ],
   "source": [
    "d = [answer.index(aa)+1 for aa in aaa]\n",
    "d"
   ]
  },
  {
   "cell_type": "code",
   "execution_count": 17,
   "metadata": {},
   "outputs": [
    {
     "data": {
      "text/plain": [
       "[1, 3, 2]"
      ]
     },
     "execution_count": 17,
     "metadata": {},
     "output_type": "execute_result"
    }
   ],
   "source": [
    "answer = [3, 5, 4]\n",
    "d = [answer.index(aa)+1 for aa in sorted(answer)]\n",
    "d"
   ]
  },
  {
   "cell_type": "code",
   "execution_count": 18,
   "metadata": {},
   "outputs": [],
   "source": [
    "answer = []\n",
    "for i in range(3):\n",
    "    answer.append(len(list(filter(lambda x: x[0] == x[1], zip(s[i], answers)))))\n",
    "# result = []\n",
    "# for k,v in enumerate(answer, start = 1):\n",
    "#     result.append((k,v))\n",
    "# result.sort(lambda)\n",
    "answer = [answer.index(aa)+1 for aa in sorted(answer)]"
   ]
  },
  {
   "cell_type": "code",
   "execution_count": 19,
   "metadata": {},
   "outputs": [
    {
     "data": {
      "text/plain": [
       "[1, 3, 2]"
      ]
     },
     "execution_count": 19,
     "metadata": {},
     "output_type": "execute_result"
    }
   ],
   "source": [
    "answer"
   ]
  },
  {
   "cell_type": "code",
   "execution_count": null,
   "metadata": {},
   "outputs": [],
   "source": [
    "if len(set(answer)) == 1:\n",
    "    answer = [answer.index(aa)+1 for aa in sorted(answer)]\n",
    "else:\n",
    "    answer = answer.index(max(answer))\n"
   ]
  },
  {
   "cell_type": "code",
   "execution_count": 26,
   "metadata": {},
   "outputs": [],
   "source": [
    "def solution(answers):\n",
    "    answer = []\n",
    "    s1 = [1,2,3,4,5]\n",
    "    s2 = [2, 1, 2, 3, 2, 4, 2, 5]\n",
    "    s3 = [3, 3, 1, 1, 2, 2, 4, 4, 5, 5]\n",
    "    s = [s1, s2, s3]\n",
    "    if any([len(e)< len(answer) for e in s] ):\n",
    "        s = [ss*2 for ss in s if len(ss)<len(answers)]\n",
    "    print(s)\n",
    "    \n",
    "    for i in range(3):\n",
    "        answer.append(len(list(filter(lambda x: x[0] == x[1], zip(s[i], answers)))))\n",
    "    \n",
    "    if len(set(answer)) == 1:\n",
    "        answer = [answer.index(aa)+1 for aa in sorted(answer)]\n",
    "    else:\n",
    "        answer = answer.index(max(answer))+1\n",
    "         \n",
    "    return answer"
   ]
  },
  {
   "cell_type": "code",
   "execution_count": 27,
   "metadata": {},
   "outputs": [
    {
     "name": "stdout",
     "output_type": "stream",
     "text": [
      "[[1, 2, 3, 4, 5], [2, 1, 2, 3, 2, 4, 2, 5], [3, 3, 1, 1, 2, 2, 4, 4, 5, 5]]\n"
     ]
    },
    {
     "data": {
      "text/plain": [
       "1"
      ]
     },
     "execution_count": 27,
     "metadata": {},
     "output_type": "execute_result"
    }
   ],
   "source": [
    "answers = [1,2,3,4,5]\n",
    "solution(answers)"
   ]
  },
  {
   "cell_type": "code",
   "execution_count": null,
   "metadata": {},
   "outputs": [],
   "source": [
    "## 위 함수로는 절반도 통과 못했다.\n",
    "## s 만드는데 에러 있는 듯\n"
   ]
  },
  {
   "cell_type": "markdown",
   "metadata": {},
   "source": [
    "* 최종 제출 코드\n"
   ]
  },
  {
   "cell_type": "code",
   "execution_count": null,
   "metadata": {},
   "outputs": [],
   "source": [
    "def solution(answers):\n",
    "    answer = []\n",
    "    s1 = [1,2,3,4,5]\n",
    "    s2 = [2, 1, 2, 3, 2, 4, 2, 5]\n",
    "    s3 = [3, 3, 1, 1, 2, 2, 4, 4, 5, 5]\n",
    "    s = [s1, s2, s3]\n",
    "    # if any([len(e)< len(answer) for e in s] ):\n",
    "    #     s = [ss*2 for ss in s if len(ss)<len(answers)]\n",
    "    for i in range(len(s)):\n",
    "        while True:\n",
    "            cnt = 2\n",
    "            if len(s[i])< len(answers):\n",
    "                s[i]= s[i]*cnt \n",
    "                cnt += 1\n",
    "            else:\n",
    "                break\n",
    "\n",
    "    for i in range(3):\n",
    "        answer.append(len(list(filter(lambda x: x[0] == x[1], zip(s[i], answers)))))\n",
    "\n",
    "    m = max(answer)\n",
    "    result = [i+1 for i, v in enumerate(answer) if v==m]\n",
    "\n",
    "    return result\n",
    "\n"
   ]
  },
  {
   "cell_type": "markdown",
   "metadata": {},
   "source": [
    "* 다른 사람 풀이"
   ]
  },
  {
   "cell_type": "code",
   "execution_count": null,
   "metadata": {},
   "outputs": [],
   "source": [
    "def solution(answers):\n",
    "    pattern1 = [1,2,3,4,5]\n",
    "    pattern2 = [2,1,2,3,2,4,2,5]\n",
    "    pattern3 = [3,3,1,1,2,2,4,4,5,5]\n",
    "    score = [0, 0, 0]\n",
    "    result = []\n",
    "\n",
    "    for idx, answer in enumerate(answers):\n",
    "        if answer == pattern1[idx%len(pattern1)]:\n",
    "            score[0] += 1\n",
    "        if answer == pattern2[idx%len(pattern2)]:\n",
    "            score[1] += 1\n",
    "        if answer == pattern3[idx%len(pattern3)]:\n",
    "            score[2] += 1\n",
    "\n",
    "    for idx, s in enumerate(score):\n",
    "        if s == max(score):\n",
    "            result.append(idx+1)\n",
    "\n",
    "    return result"
   ]
  },
  {
   "cell_type": "code",
   "execution_count": null,
   "metadata": {},
   "outputs": [],
   "source": [
    "## 패턴의 길이 맞추는 부분. 내 풀이에선 s안의 각 s1,s2,s3구하는 부분에서\n",
    "## 인덱스번호 이용한 점 눈여겨 보기\n",
    "## 나머지 이용해 인덱스 번호 만든 건 참 잘했다!\n",
    "## 내 풀이에선 무조건 answers만큼 리스트 길이를 맞춰 따로 만들려 했는데 중요한 건 같은 패턴이 반복된다는 사실.\n",
    "## \n",
    "## 이 한 뼘의 아이디어를 생각해내느냐 못하느냐에 따라 갈리겠군..\n",
    "## 정답 개수를 for문에서 같이 구하니 따로 리스트, 필터, 짚, 컴프리헨션 같이 복잡하게 사용하지 않아도 된다..\n"
   ]
  },
  {
   "cell_type": "code",
   "execution_count": null,
   "metadata": {},
   "outputs": [],
   "source": [
    "answer = []\n",
    "s1 = [1,2,3,4,5]\n",
    "s2 = [2, 1, 2, 3, 2, 4, 2, 5]\n",
    "s3 = [3, 3, 1, 1, 2, 2, 4, 4, 5, 5]\n",
    "s = [s1, s2, s3]\n",
    "answers = [1,3,2,4,2, 3,4,1,4,2,5,3,2,4,4,1,1]\n",
    "score = [0,0,0]\n",
    "# for i in range(3):\n",
    "#     for j in range(len(answers)):\n",
    "#         if answers[j] == s[i][]\n",
    "#             score[i] += 1\n",
    "for i, v in enumerate(answers):\n",
    "    if answers[i] == s1[i%len(answers)]:\n",
    "        score[0] += 1"
   ]
  },
  {
   "cell_type": "code",
   "execution_count": 47,
   "metadata": {},
   "outputs": [
    {
     "data": {
      "text/plain": [
       "[5, 5, 4]"
      ]
     },
     "execution_count": 47,
     "metadata": {},
     "output_type": "execute_result"
    }
   ],
   "source": [
    "s1 = [1,2,3,4,5]\n",
    "s2 = [2, 1, 2, 3, 2, 4, 2, 5]\n",
    "s3 = [3, 3, 1, 1, 2, 2, 4, 4, 5, 5]\n",
    "s = [s1, s2, s3]\n",
    "answers = [1,3,2,4,2, 3,4,1,4,2,5,3,2,4,4,1,1]\n",
    "score = [0,0,0]\n",
    "for i, v in enumerate(answers):\n",
    "    if v == s1[i%len(s1)]:\n",
    "        score[0] += 1\n",
    "    if v == s2[i%len(s2)]:\n",
    "        score[1] += 1\n",
    "    if v == s3[i%len(s3)]:\n",
    "        score[2] += 1\n",
    "score"
   ]
  },
  {
   "cell_type": "code",
   "execution_count": 48,
   "metadata": {},
   "outputs": [
    {
     "data": {
      "text/plain": [
       "[5, 5, 4]"
      ]
     },
     "execution_count": 48,
     "metadata": {},
     "output_type": "execute_result"
    }
   ],
   "source": [
    "s1 = [1,2,3,4,5]\n",
    "s2 = [2, 1, 2, 3, 2, 4, 2, 5]\n",
    "s3 = [3, 3, 1, 1, 2, 2, 4, 4, 5, 5]\n",
    "s = [s1, s2, s3]\n",
    "answers = [1,3,2,4,2, 3,4,1,4,2,5,3,2,4,4,1,1]\n",
    "score = [0,0,0]\n",
    "for i, v in enumerate(answers):\n",
    "    for j in range(3):\n",
    "        if v == s[j][i%len(s[j])]:\n",
    "            score[j] += 1\n",
    "score"
   ]
  },
  {
   "cell_type": "code",
   "execution_count": null,
   "metadata": {},
   "outputs": [],
   "source": [
    "## 이중 for문으로 하는 게 훨씬 오래 걸린다..\n",
    "## O(logn^2)"
   ]
  }
 ],
 "metadata": {
  "interpreter": {
   "hash": "35ed88a844549ed1dac1a7f37b7dbf0b748b418d1d8529676b850db54c710907"
  },
  "kernelspec": {
   "display_name": "Python 3.8.5 ('venv': venv)",
   "language": "python",
   "name": "python3"
  },
  "language_info": {
   "codemirror_mode": {
    "name": "ipython",
    "version": 3
   },
   "file_extension": ".py",
   "mimetype": "text/x-python",
   "name": "python",
   "nbconvert_exporter": "python",
   "pygments_lexer": "ipython3",
   "version": "3.8.5"
  },
  "orig_nbformat": 4
 },
 "nbformat": 4,
 "nbformat_minor": 2
}
